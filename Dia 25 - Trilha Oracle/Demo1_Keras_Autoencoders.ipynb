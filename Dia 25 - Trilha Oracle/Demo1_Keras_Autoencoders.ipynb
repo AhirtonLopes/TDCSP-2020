{
  "nbformat": 4,
  "nbformat_minor": 0,
  "metadata": {
    "kernelspec": {
      "display_name": "Python 2",
      "language": "python",
      "name": "python2"
    },
    "language_info": {
      "codemirror_mode": {
        "name": "ipython",
        "version": 2
      },
      "file_extension": ".py",
      "mimetype": "text/x-python",
      "name": "python",
      "nbconvert_exporter": "python",
      "pygments_lexer": "ipython2",
      "version": "2.7.14"
    },
    "colab": {
      "name": "Demo1_Keras_Autoencoders.ipynb",
      "provenance": []
    }
  },
  "cells": [
    {
      "cell_type": "markdown",
      "metadata": {
        "id": "Da-Z-49blTWv",
        "colab_type": "text"
      },
      "source": [
        "# Demo 1 - Autoencoders usando Keras e MNIST"
      ]
    },
    {
      "cell_type": "markdown",
      "metadata": {
        "id": "OOiBLyBHlTWw",
        "colab_type": "text"
      },
      "source": [
        "Neste notebook vamos encontrar 4 tipos de Autoencoders os quais são melhor detalhados se utilizando o framework Keras e o dataset MNIST (http://yann.lecun.com/exdb/mnist/)."
      ]
    },
    {
      "cell_type": "markdown",
      "metadata": {
        "id": "xMN3CxhklTWx",
        "colab_type": "text"
      },
      "source": [
        "1. Autoencoders \"Vanilla\"\n",
        "2. Autoencoders Multi-Camadas\n",
        "3. Autoencoders Convolucionais\n",
        "4. Autoencoders Regularizados"
      ]
    },
    {
      "cell_type": "markdown",
      "metadata": {
        "id": "p9qwV1C9lTWy",
        "colab_type": "text"
      },
      "source": [
        "## Importando bibliotecas"
      ]
    },
    {
      "cell_type": "code",
      "metadata": {
        "id": "u37Cd-sAlTWy",
        "colab_type": "code",
        "colab": {
          "base_uri": "https://localhost:8080/",
          "height": 34
        },
        "outputId": "8956a0f5-a109-4341-a0c6-ea77c5d30bc9"
      },
      "source": [
        "import keras\n",
        "import numpy as np\n",
        "import matplotlib.pyplot as plt\n",
        "%matplotlib inline\n",
        "\n",
        "from keras.datasets import mnist\n",
        "from keras.models import Model\n",
        "from keras.layers import Input, add\n",
        "from keras.layers.core import Dense, Dropout, Activation, Flatten, Reshape\n",
        "from keras import regularizers\n",
        "from keras.regularizers import l2\n",
        "from keras.layers.convolutional import Conv2D, MaxPooling2D, UpSampling2D, ZeroPadding2D\n",
        "from keras.utils import np_utils"
      ],
      "execution_count": 1,
      "outputs": [
        {
          "output_type": "stream",
          "text": [
            "Using TensorFlow backend.\n"
          ],
          "name": "stderr"
        }
      ]
    },
    {
      "cell_type": "markdown",
      "metadata": {
        "id": "UpxX6E6QlTW3",
        "colab_type": "text"
      },
      "source": [
        "## Carregando os dados"
      ]
    },
    {
      "cell_type": "markdown",
      "metadata": {
        "id": "V8YLpKbrlTW4",
        "colab_type": "text"
      },
      "source": [
        "Nós não precisamos dos rótulos visto que autoencoders são redes não supervisionadas."
      ]
    },
    {
      "cell_type": "code",
      "metadata": {
        "id": "YlKFf4EplTW4",
        "colab_type": "code",
        "colab": {
          "base_uri": "https://localhost:8080/",
          "height": 69
        },
        "outputId": "78478548-81a7-4faf-946a-8811d7649b20"
      },
      "source": [
        "(X_train, _), (X_test, _) = mnist.load_data()\n",
        "\n",
        "X_train = X_train.reshape(X_train.shape[0], 28, 28, 1)\n",
        "X_test = X_test.reshape(X_test.shape[0], 28, 28, 1)"
      ],
      "execution_count": 2,
      "outputs": [
        {
          "output_type": "stream",
          "text": [
            "Downloading data from https://s3.amazonaws.com/img-datasets/mnist.npz\n",
            "11493376/11490434 [==============================] - 1s 0us/step\n",
            "11501568/11490434 [==============================] - 1s 0us/step\n"
          ],
          "name": "stdout"
        }
      ]
    },
    {
      "cell_type": "markdown",
      "metadata": {
        "id": "pewvo5VIlTW9",
        "colab_type": "text"
      },
      "source": [
        "## Normalizando os dados"
      ]
    },
    {
      "cell_type": "markdown",
      "metadata": {
        "id": "EqAex1delTW-",
        "colab_type": "text"
      },
      "source": [
        "Queremos os valores de pixels entre 0 e 1, ao invés de entre 0 e 255."
      ]
    },
    {
      "cell_type": "code",
      "metadata": {
        "id": "gOx6Q0i3lTW-",
        "colab_type": "code",
        "colab": {
          "base_uri": "https://localhost:8080/",
          "height": 69
        },
        "outputId": "631ba388-fa38-422a-a1be-68b9cbd1159f"
      },
      "source": [
        "X_train = X_train.astype(\"float32\")/255.\n",
        "X_test = X_test.astype(\"float32\")/255.\n",
        "\n",
        "print('X_train shape:', X_train.shape)\n",
        "print(X_train.shape[0], 'train samples')\n",
        "print(X_test.shape[0], 'test samples')"
      ],
      "execution_count": 3,
      "outputs": [
        {
          "output_type": "stream",
          "text": [
            "('X_train shape:', (60000, 28, 28, 1))\n",
            "(60000, 'train samples')\n",
            "(10000, 'test samples')\n"
          ],
          "name": "stdout"
        }
      ]
    },
    {
      "cell_type": "markdown",
      "metadata": {
        "id": "uIh974polTXB",
        "colab_type": "text"
      },
      "source": [
        "## Achatar as imagens para as redes totalmente conectadas"
      ]
    },
    {
      "cell_type": "code",
      "metadata": {
        "id": "yOa-YhktlTXB",
        "colab_type": "code",
        "colab": {}
      },
      "source": [
        "X_train = X_train.reshape((len(X_train), np.prod(X_train.shape[1:])))\n",
        "X_test = X_test.reshape((len(X_test), np.prod(X_test.shape[1:])))"
      ],
      "execution_count": 4,
      "outputs": []
    },
    {
      "cell_type": "markdown",
      "metadata": {
        "id": "0N1p-_PKlTXE",
        "colab_type": "text"
      },
      "source": [
        "___"
      ]
    },
    {
      "cell_type": "markdown",
      "metadata": {
        "id": "5aZz2g6ZlTXE",
        "colab_type": "text"
      },
      "source": [
        "# **Autoencoder \"Vanilla\"**"
      ]
    },
    {
      "cell_type": "markdown",
      "metadata": {
        "id": "ZwH9I-zllTXF",
        "colab_type": "text"
      },
      "source": [
        "### Criando a rede"
      ]
    },
    {
      "cell_type": "markdown",
      "metadata": {
        "id": "Ijoon9tnlTXF",
        "colab_type": "text"
      },
      "source": [
        "A primeira rede é o autoencoder mais simples. Tem três camadas: entrada - codificado - decodificado."
      ]
    },
    {
      "cell_type": "code",
      "metadata": {
        "id": "RnXAzmldlTXG",
        "colab_type": "code",
        "colab": {}
      },
      "source": [
        "input_size = 784\n",
        "hidden_size = 64\n",
        "output_size = 784"
      ],
      "execution_count": 5,
      "outputs": []
    },
    {
      "cell_type": "code",
      "metadata": {
        "id": "JhW8hb3_lTXL",
        "colab_type": "code",
        "colab": {}
      },
      "source": [
        "x = Input(shape=(input_size,))\n",
        "h = Dense(hidden_size, activation='relu')(x)\n",
        "r = Dense(output_size, activation='sigmoid')(h)\n",
        "\n",
        "autoencoder = Model(inputs=x, outputs=r)\n",
        "autoencoder.compile(optimizer='adam', loss='mse')"
      ],
      "execution_count": 6,
      "outputs": []
    },
    {
      "cell_type": "code",
      "metadata": {
        "id": "O5MlaWi5lTXO",
        "colab_type": "code",
        "colab": {
          "base_uri": "https://localhost:8080/",
          "height": 360
        },
        "outputId": "d9e98073-0cbf-4317-a47c-57b942d8df08"
      },
      "source": [
        "from IPython.display import SVG\n",
        "from keras.utils.vis_utils import model_to_dot\n",
        "\n",
        "SVG(model_to_dot(autoencoder).create(prog='dot', format='svg'))"
      ],
      "execution_count": 7,
      "outputs": [
        {
          "output_type": "execute_result",
          "data": {
            "text/plain": [
              "<IPython.core.display.SVG object>"
            ],
            "image/svg+xml": "<svg height=\"255pt\" viewBox=\"0.00 0.00 141.00 191.00\" width=\"188pt\" xmlns=\"http://www.w3.org/2000/svg\" xmlns:xlink=\"http://www.w3.org/1999/xlink\">\n<g class=\"graph\" id=\"graph0\" transform=\"scale(1.3333 1.3333) rotate(0) translate(4 187)\">\n<title>G</title>\n<polygon fill=\"#ffffff\" points=\"-4,4 -4,-187 137,-187 137,4 -4,4\" stroke=\"transparent\"/>\n<!-- 140484125799056 -->\n<g class=\"node\" id=\"node1\">\n<title>140484125799056</title>\n<polygon fill=\"none\" points=\"0,-146.5 0,-182.5 133,-182.5 133,-146.5 0,-146.5\" stroke=\"#000000\"/>\n<text fill=\"#000000\" font-family=\"Times,serif\" font-size=\"14.00\" text-anchor=\"middle\" x=\"66.5\" y=\"-160.8\">input_1: InputLayer</text>\n</g>\n<!-- 140484126210320 -->\n<g class=\"node\" id=\"node2\">\n<title>140484126210320</title>\n<polygon fill=\"none\" points=\"13,-73.5 13,-109.5 120,-109.5 120,-73.5 13,-73.5\" stroke=\"#000000\"/>\n<text fill=\"#000000\" font-family=\"Times,serif\" font-size=\"14.00\" text-anchor=\"middle\" x=\"66.5\" y=\"-87.8\">dense_1: Dense</text>\n</g>\n<!-- 140484125799056&#45;&gt;140484126210320 -->\n<g class=\"edge\" id=\"edge1\">\n<title>140484125799056-&gt;140484126210320</title>\n<path d=\"M66.5,-146.4551C66.5,-138.3828 66.5,-128.6764 66.5,-119.6817\" fill=\"none\" stroke=\"#000000\"/>\n<polygon fill=\"#000000\" points=\"70.0001,-119.5903 66.5,-109.5904 63.0001,-119.5904 70.0001,-119.5903\" stroke=\"#000000\"/>\n</g>\n<!-- 140484126210448 -->\n<g class=\"node\" id=\"node3\">\n<title>140484126210448</title>\n<polygon fill=\"none\" points=\"13,-.5 13,-36.5 120,-36.5 120,-.5 13,-.5\" stroke=\"#000000\"/>\n<text fill=\"#000000\" font-family=\"Times,serif\" font-size=\"14.00\" text-anchor=\"middle\" x=\"66.5\" y=\"-14.8\">dense_2: Dense</text>\n</g>\n<!-- 140484126210320&#45;&gt;140484126210448 -->\n<g class=\"edge\" id=\"edge2\">\n<title>140484126210320-&gt;140484126210448</title>\n<path d=\"M66.5,-73.4551C66.5,-65.3828 66.5,-55.6764 66.5,-46.6817\" fill=\"none\" stroke=\"#000000\"/>\n<polygon fill=\"#000000\" points=\"70.0001,-46.5903 66.5,-36.5904 63.0001,-46.5904 70.0001,-46.5903\" stroke=\"#000000\"/>\n</g>\n</g>\n</svg>"
          },
          "metadata": {
            "tags": []
          },
          "execution_count": 7
        }
      ]
    },
    {
      "cell_type": "markdown",
      "metadata": {
        "id": "1U_cVuFtlTXR",
        "colab_type": "text"
      },
      "source": [
        "### Treinamento"
      ]
    },
    {
      "cell_type": "code",
      "metadata": {
        "id": "RU_oTuKHlTXS",
        "colab_type": "code",
        "colab": {
          "base_uri": "https://localhost:8080/",
          "height": 209
        },
        "outputId": "b98b4520-95af-4464-908e-416173f14af8"
      },
      "source": [
        "epochs = 5\n",
        "batch_size = 128\n",
        "\n",
        "history = autoencoder.fit(X_train, X_train, batch_size=batch_size, epochs=epochs, verbose=1, validation_data=(X_test, X_test))"
      ],
      "execution_count": 8,
      "outputs": [
        {
          "output_type": "stream",
          "text": [
            "Train on 60000 samples, validate on 10000 samples\n",
            "Epoch 1/5\n",
            "60000/60000 [==============================] - 3s 48us/step - loss: 0.0442 - val_loss: 0.0225\n",
            "Epoch 2/5\n",
            "60000/60000 [==============================] - 3s 45us/step - loss: 0.0172 - val_loss: 0.0128\n",
            "Epoch 3/5\n",
            "60000/60000 [==============================] - 3s 45us/step - loss: 0.0108 - val_loss: 0.0087\n",
            "Epoch 4/5\n",
            "60000/60000 [==============================] - 3s 44us/step - loss: 0.0078 - val_loss: 0.0066\n",
            "Epoch 5/5\n",
            "60000/60000 [==============================] - 3s 44us/step - loss: 0.0062 - val_loss: 0.0056\n"
          ],
          "name": "stdout"
        }
      ]
    },
    {
      "cell_type": "code",
      "metadata": {
        "id": "FJn4ZcvJlTXU",
        "colab_type": "code",
        "colab": {
          "base_uri": "https://localhost:8080/",
          "height": 311
        },
        "outputId": "63e3a9f0-dfdc-4fea-cc7b-c0b364b504a5"
      },
      "source": [
        "conv_encoder = Model(x, h)\n",
        "encoded_imgs = conv_encoder.predict(X_test)\n",
        "\n",
        "n = 10\n",
        "plt.figure(figsize=(20, 8))\n",
        "for i in range(n):\n",
        "    ax = plt.subplot(1, n, i+1)\n",
        "    plt.imshow(encoded_imgs[i].reshape(4, 16).T)\n",
        "    plt.gray()\n",
        "    ax.get_xaxis().set_visible(False)\n",
        "    ax.get_yaxis().set_visible(False)\n",
        "plt.show()"
      ],
      "execution_count": 9,
      "outputs": [
        {
          "output_type": "display_data",
          "data": {
            "image/png": "[encoded data removed]",
            "text/plain": [
              "<Figure size 1440x576 with 10 Axes>"
            ]
          },
          "metadata": {
            "tags": [],
            "needs_background": "light"
          }
        }
      ]
    },
    {
      "cell_type": "markdown",
      "metadata": {
        "id": "QriXAM6alTXX",
        "colab_type": "text"
      },
      "source": [
        "### Predição no dataset de teste"
      ]
    },
    {
      "cell_type": "code",
      "metadata": {
        "id": "Kybhhm14lTXY",
        "colab_type": "code",
        "colab": {}
      },
      "source": [
        "decoded_imgs = autoencoder.predict(X_test)"
      ],
      "execution_count": 10,
      "outputs": []
    },
    {
      "cell_type": "markdown",
      "metadata": {
        "id": "00zwPhn-lTXa",
        "colab_type": "text"
      },
      "source": [
        "### Plot"
      ]
    },
    {
      "cell_type": "code",
      "metadata": {
        "id": "iIWYHZ_hlTXa",
        "colab_type": "code",
        "colab": {
          "base_uri": "https://localhost:8080/",
          "height": 187
        },
        "outputId": "e0f02875-0e61-460e-929e-503720736920"
      },
      "source": [
        "n = 10\n",
        "plt.figure(figsize=(20, 6))\n",
        "for i in range(n):\n",
        "    # imagens original\n",
        "    ax = plt.subplot(3, n, i+1)\n",
        "    plt.imshow(X_test[i].reshape(28, 28))\n",
        "    plt.gray()\n",
        "    ax.get_xaxis().set_visible(False)\n",
        "    ax.get_yaxis().set_visible(False)\n",
        "\n",
        "    \n",
        "    # imagens reconstruídas\n",
        "    ax = plt.subplot(3, n, i+n+1)\n",
        "    plt.imshow(decoded_imgs[i].reshape(28, 28))\n",
        "    plt.gray()\n",
        "    ax.get_xaxis().set_visible(False)\n",
        "    ax.get_yaxis().set_visible(False)\n",
        "    \n",
        "plt.show()"
      ],
      "execution_count": 11,
      "outputs": [
        {
          "output_type": "display_data",
          "data": {
            "image/png": "[encoded data removed]",
            "text/plain": [
              "<Figure size 1440x432 with 20 Axes>"
            ]
          },
          "metadata": {
            "tags": [],
            "needs_background": "light"
          }
        }
      ]
    },
    {
      "cell_type": "markdown",
      "metadata": {
        "id": "3YMnF9fJlTXc",
        "colab_type": "text"
      },
      "source": [
        "### Plotando as perdas"
      ]
    },
    {
      "cell_type": "code",
      "metadata": {
        "id": "MMBVwj1blTXd",
        "colab_type": "code",
        "colab": {
          "base_uri": "https://localhost:8080/",
          "height": 312
        },
        "outputId": "ed62cacb-c6d0-410b-c048-76160afad70f"
      },
      "source": [
        "print(history.history.keys())\n",
        "\n",
        "plt.plot(history.history['loss'])\n",
        "plt.plot(history.history['val_loss'])\n",
        "plt.title('perda modelo')\n",
        "plt.ylabel('perda')\n",
        "plt.xlabel('epoca')\n",
        "plt.legend(['treinamento', 'validacao'], loc='upper right')\n",
        "plt.show()"
      ],
      "execution_count": 12,
      "outputs": [
        {
          "output_type": "stream",
          "text": [
            "['loss', 'val_loss']\n"
          ],
          "name": "stdout"
        },
        {
          "output_type": "display_data",
          "data": {
            "image/png": "[encoded data removed]",
            "text/plain": [
              "<Figure size 432x288 with 1 Axes>"
            ]
          },
          "metadata": {
            "tags": [],
            "needs_background": "light"
          }
        }
      ]
    }
  ]
}