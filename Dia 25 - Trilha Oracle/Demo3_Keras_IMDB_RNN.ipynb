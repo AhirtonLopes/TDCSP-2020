{
  "nbformat": 4,
  "nbformat_minor": 0,
  "metadata": {
    "colab": {
      "name": "Demo3_Keras_IMDB_RNN.ipynb",
      "provenance": [],
      "collapsed_sections": []
    },
    "language_info": {
      "codemirror_mode": {
        "name": "ipython",
        "version": 3
      },
      "file_extension": ".py",
      "mimetype": "text/x-python",
      "name": "python",
      "nbconvert_exporter": "python",
      "pygments_lexer": "ipython3",
      "version": "3.5.2"
    },
    "kernelspec": {
      "name": "python3",
      "display_name": "Python 3"
    },
    "accelerator": "GPU"
  },
  "cells": [
    {
      "cell_type": "markdown",
      "metadata": {
        "id": "-qAGWGzAUXgv",
        "colab_type": "text"
      },
      "source": [
        "# Demo 3 - Classificação de sentimento em reviews de filmes com base do IMDB via RNNs (Recurrent Neural Networks)\n",
        "\n",
        "Neste notebook iremos treinar uma Rede Neural Recorrent (RNN) para classificação de sentimento usando Keras (com Tensorflow como backend)."
      ]
    },
    {
      "cell_type": "code",
      "metadata": {
        "id": "tRQc12p5u1BD",
        "colab_type": "code",
        "colab": {}
      },
      "source": [
        "#!pip install --upgrade keras"
      ],
      "execution_count": 19,
      "outputs": []
    },
    {
      "cell_type": "code",
      "metadata": {
        "id": "h4oRcDCaUXgx",
        "colab_type": "code",
        "colab": {
          "base_uri": "https://localhost:8080/",
          "height": 34
        },
        "outputId": "eb551408-998c-4ce4-9830-9dc214304f07"
      },
      "source": [
        "%matplotlib inline\n",
        "\n",
        "from keras.preprocessing import sequence\n",
        "from keras.models import Sequential\n",
        "from keras.layers import Dense, Embedding, Dropout\n",
        "from keras.layers import LSTM\n",
        "from keras.datasets import imdb\n",
        "\n",
        "from distutils.version import LooseVersion as LV\n",
        "from keras import __version__\n",
        "from keras import backend as K\n",
        "\n",
        "from IPython.display import SVG\n",
        "from keras.utils.vis_utils import model_to_dot\n",
        "\n",
        "import numpy as np\n",
        "import matplotlib.pyplot as plt\n",
        "import seaborn as sns\n",
        "sns.set()\n",
        "\n",
        "print('Using Keras version:', __version__, 'backend:', K.backend())\n",
        "assert(LV(__version__) >= LV(\"2.0.0\"))"
      ],
      "execution_count": 20,
      "outputs": [
        {
          "output_type": "stream",
          "text": [
            "Using Keras version: 2.4.3 backend: tensorflow\n"
          ],
          "name": "stdout"
        }
      ]
    },
    {
      "cell_type": "markdown",
      "metadata": {
        "id": "K7yp39afUXg1",
        "colab_type": "text"
      },
      "source": [
        "## Base de dados do IMDB (https://www.kaggle.com/iarunava/imdb-movie-reviews-dataset) \n",
        "\n",
        "Em seguida, carregaremos o conjunto de dados do IMDB. Na primeira vez, talvez tenhamos que baixar os dados, o que pode demorar um pouco. O conjunto de dados contém 50000 avaliações de filmes do Internet Movie Database, dividido em 25.000 avaliações para treinamento e 25.000 avaliações para testes. Metade dos comentários são positivos (1) e metade são negativos (0).\n",
        "\n",
        "O conjunto de dados já foi pré-processado e cada palavra foi substituída por um índice inteiro.\n",
        "\n",
        "As revisões são, portanto, representadas como sequências de comprimento variável de inteiros, como consta:\n",
        "\n",
        "(Os índices de palavras começam em \"3\", como \"1\" é usado para marcar o início de uma revisão e \"2\" representa todas as palavras fora do vocabulário existente. \"0\" será usado posteriormente para preencher comentários mais curtos em um tamanho fixo .)\n",
        "\n",
        "\n",
        "* Mais informações e créditos originais:\n",
        "\n",
        "Maas, Andrew L. and Daly, Raymond E. and Pham, Peter T. and Huang, Dan and Ng, Andrew Y. and Potts, Christopher, \"Learning Word Vectors for Sentiment Analysis\", em Proceedings of the 49th Annual Meeting of the Association for Computational Linguistics: Human Language Technologies, June, 2011. Portland, Oregon, USA. Association for Computational Linguistics. Pages 142 a150. Disponível em: http://www.aclweb.org/anthology/P11-1015"
      ]
    },
    {
      "cell_type": "code",
      "metadata": {
        "id": "lrzgGTpsUXg2",
        "colab_type": "code",
        "colab": {
          "base_uri": "https://localhost:8080/",
          "height": 139
        },
        "outputId": "47e6f58b-3c73-4937-f7e6-231b5f616662"
      },
      "source": [
        "# número de palavras mais frequentes para se utilizar:\n",
        "\n",
        "nb_words = 10000\n",
        "\n",
        "# cortar textos a partir do seguinte número de palavras (maxlenght):\n",
        "\n",
        "maxlen = 80\n",
        "\n",
        "print('Carregando...')\n",
        "(x_train, y_train), (x_test, y_test) = imdb.load_data(num_words=nb_words)\n",
        "print('x_train:', x_train.shape)\n",
        "print('x_test:', x_test.shape)\n",
        "print()\n",
        "\n",
        "print('Sequencias (samples x time)')\n",
        "x_train = sequence.pad_sequences(x_train, maxlen=maxlen)\n",
        "x_test = sequence.pad_sequences(x_test, maxlen=maxlen)\n",
        "print('x_train shape:', x_train.shape)\n",
        "print('x_test shape:', x_test.shape)"
      ],
      "execution_count": 21,
      "outputs": [
        {
          "output_type": "stream",
          "text": [
            "Carregando...\n",
            "x_train: (25000,)\n",
            "x_test: (25000,)\n",
            "\n",
            "Sequencias (samples x time)\n",
            "x_train shape: (25000, 80)\n",
            "x_test shape: (25000, 80)\n"
          ],
          "name": "stdout"
        }
      ]
    },
    {
      "cell_type": "markdown",
      "metadata": {
        "id": "yXWrBa2pUXg4",
        "colab_type": "text"
      },
      "source": [
        "Mostrando nosso primeiro review no set de treinamento:"
      ]
    },
    {
      "cell_type": "code",
      "metadata": {
        "id": "NyMoRVNjUXg5",
        "colab_type": "code",
        "colab": {
          "base_uri": "https://localhost:8080/",
          "height": 157
        },
        "outputId": "4775b55b-cd45-4851-869d-dae5212b60ad"
      },
      "source": [
        "print(\"Primeiro review no set de treinamento:\\n \\n\", x_train[0], \"comprimento:\", len(x_train[0]), \"classe:\", y_train[0])"
      ],
      "execution_count": 22,
      "outputs": [
        {
          "output_type": "stream",
          "text": [
            "Primeiro review no set de treinamento:\n",
            " \n",
            " [  15  256    4    2    7 3766    5  723   36   71   43  530  476   26\n",
            "  400  317   46    7    4    2 1029   13  104   88    4  381   15  297\n",
            "   98   32 2071   56   26  141    6  194 7486   18    4  226   22   21\n",
            "  134  476   26  480    5  144   30 5535   18   51   36   28  224   92\n",
            "   25  104    4  226   65   16   38 1334   88   12   16  283    5   16\n",
            " 4472  113  103   32   15   16 5345   19  178   32] comprimento: 80 classe: 1\n"
          ],
          "name": "stdout"
        }
      ]
    },
    {
      "cell_type": "markdown",
      "metadata": {
        "id": "V4HY7sH2UXg7",
        "colab_type": "text"
      },
      "source": [
        "## Inicialização\n",
        "\n",
        "Vamos criar um modelo RNN que tenha uma (ou, opcionalmente, duas) camadas LSTM e de Dropout. \n",
        "\n",
        "A primeira camada na rede é uma camada de Embedding que converte índices inteiros em vetores densos de comprimento ´embedding_dims`. A camada de saída contém um único neurônio e uma não-linearidade do tipo sigmóide para coincidir com a groundtruth binária (`y_train`).\n",
        "\n",
        "Finalmente, nós `compilamos ()` o modelo, usando entropia cruzada binária como a função de perda e [* RMSprop *] (https://keras.io/optimizers/#rmsprop) como otimizador."
      ]
    },
    {
      "cell_type": "code",
      "metadata": {
        "id": "OaD2LN7dUXg8",
        "colab_type": "code",
        "colab": {
          "base_uri": "https://localhost:8080/",
          "height": 332
        },
        "outputId": "67515a5d-b2d5-4d97-ad14-49c8dcfae07c"
      },
      "source": [
        "# Parâmetros do modelo:\n",
        "\n",
        "embedding_dims = 50\n",
        "lstm_units = 32\n",
        "\n",
        "print('Construindo nosso modelo...')\n",
        "model = Sequential()\n",
        "\n",
        "model.add(Embedding(nb_words,\n",
        "                    embedding_dims,\n",
        "                    input_length=maxlen))\n",
        "model.add(Dropout(0.2))\n",
        "\n",
        "#se estiver executando sem GPU:\n",
        "\n",
        "model.add(LSTM(lstm_units))\n",
        "\n",
        "# se estiver executando numa GPU:\n",
        "\n",
        "#model.add(CuDNNLSTM(lstm_units, return_sequences=True))\n",
        "\n",
        "# Para empilhar várias camadas RNN, todas as camadas RNN, exceto a última\n",
        "# precisam ter \"return_sequences = True\". Um exemplo de uso de duas camadas RNN:\n",
        "\n",
        "#model.add(LSTM(lstm_units, return_sequences=True))\n",
        "#model.add(LSTM(lstm_units))\n",
        "\n",
        "model.add(Dense(1, activation='sigmoid'))\n",
        "\n",
        "# Tentem utilizar outros otimizadores e configurações\n",
        "\n",
        "model.compile(loss='binary_crossentropy',\n",
        "              optimizer='rmsprop',\n",
        "              metrics=['accuracy'])\n",
        "print(model.summary())"
      ],
      "execution_count": 23,
      "outputs": [
        {
          "output_type": "stream",
          "text": [
            "Construindo nosso modelo...\n",
            "Model: \"sequential_2\"\n",
            "_________________________________________________________________\n",
            "Layer (type)                 Output Shape              Param #   \n",
            "=================================================================\n",
            "embedding_2 (Embedding)      (None, 80, 50)            500000    \n",
            "_________________________________________________________________\n",
            "dropout_2 (Dropout)          (None, 80, 50)            0         \n",
            "_________________________________________________________________\n",
            "lstm_2 (LSTM)                (None, 32)                10624     \n",
            "_________________________________________________________________\n",
            "dense_2 (Dense)              (None, 1)                 33        \n",
            "=================================================================\n",
            "Total params: 510,657\n",
            "Trainable params: 510,657\n",
            "Non-trainable params: 0\n",
            "_________________________________________________________________\n",
            "None\n"
          ],
          "name": "stdout"
        }
      ]
    },
    {
      "cell_type": "code",
      "metadata": {
        "id": "pQIbt-yGUXg-",
        "colab_type": "code",
        "colab": {
          "base_uri": "https://localhost:8080/",
          "height": 708
        },
        "outputId": "a98e7bc9-f3d3-4530-e690-6a1700ffc2c9"
      },
      "source": [
        "SVG(model_to_dot(model, show_shapes=True).create(prog='dot', format='svg'))"
      ],
      "execution_count": 24,
      "outputs": [
        {
          "output_type": "execute_result",
          "data": {
            "text/plain": [
              "<IPython.core.display.SVG object>"
            ],
            "image/svg+xml": "<svg height=\"516pt\" viewBox=\"0.00 0.00 334.00 387.00\" width=\"445pt\" xmlns=\"http://www.w3.org/2000/svg\" xmlns:xlink=\"http://www.w3.org/1999/xlink\">\n<g class=\"graph\" id=\"graph0\" transform=\"scale(1.3333 1.3333) rotate(0) translate(4 383)\">\n<title>G</title>\n<polygon fill=\"#ffffff\" points=\"-4,4 -4,-383 330,-383 330,4 -4,4\" stroke=\"transparent\"/>\n<!-- 140237346846312 -->\n<g class=\"node\" id=\"node1\">\n<title>140237346846312</title>\n<polygon fill=\"none\" points=\"0,-332.5 0,-378.5 326,-378.5 326,-332.5 0,-332.5\" stroke=\"#000000\"/>\n<text fill=\"#000000\" font-family=\"Times,serif\" font-size=\"14.00\" text-anchor=\"middle\" x=\"102.5\" y=\"-351.8\">embedding_2_input: InputLayer</text>\n<polyline fill=\"none\" points=\"205,-332.5 205,-378.5 \" stroke=\"#000000\"/>\n<text fill=\"#000000\" font-family=\"Times,serif\" font-size=\"14.00\" text-anchor=\"middle\" x=\"234\" y=\"-363.3\">input:</text>\n<polyline fill=\"none\" points=\"205,-355.5 263,-355.5 \" stroke=\"#000000\"/>\n<text fill=\"#000000\" font-family=\"Times,serif\" font-size=\"14.00\" text-anchor=\"middle\" x=\"234\" y=\"-340.3\">output:</text>\n<polyline fill=\"none\" points=\"263,-332.5 263,-378.5 \" stroke=\"#000000\"/>\n<text fill=\"#000000\" font-family=\"Times,serif\" font-size=\"14.00\" text-anchor=\"middle\" x=\"294.5\" y=\"-363.3\">[(?, 80)]</text>\n<polyline fill=\"none\" points=\"263,-355.5 326,-355.5 \" stroke=\"#000000\"/>\n<text fill=\"#000000\" font-family=\"Times,serif\" font-size=\"14.00\" text-anchor=\"middle\" x=\"294.5\" y=\"-340.3\">[(?, 80)]</text>\n</g>\n<!-- 140237346845472 -->\n<g class=\"node\" id=\"node2\">\n<title>140237346845472</title>\n<polygon fill=\"none\" points=\"10,-249.5 10,-295.5 316,-295.5 316,-249.5 10,-249.5\" stroke=\"#000000\"/>\n<text fill=\"#000000\" font-family=\"Times,serif\" font-size=\"14.00\" text-anchor=\"middle\" x=\"95.5\" y=\"-268.8\">embedding_2: Embedding</text>\n<polyline fill=\"none\" points=\"181,-249.5 181,-295.5 \" stroke=\"#000000\"/>\n<text fill=\"#000000\" font-family=\"Times,serif\" font-size=\"14.00\" text-anchor=\"middle\" x=\"210\" y=\"-280.3\">input:</text>\n<polyline fill=\"none\" points=\"181,-272.5 239,-272.5 \" stroke=\"#000000\"/>\n<text fill=\"#000000\" font-family=\"Times,serif\" font-size=\"14.00\" text-anchor=\"middle\" x=\"210\" y=\"-257.3\">output:</text>\n<polyline fill=\"none\" points=\"239,-249.5 239,-295.5 \" stroke=\"#000000\"/>\n<text fill=\"#000000\" font-family=\"Times,serif\" font-size=\"14.00\" text-anchor=\"middle\" x=\"277.5\" y=\"-280.3\">(?, 80)</text>\n<polyline fill=\"none\" points=\"239,-272.5 316,-272.5 \" stroke=\"#000000\"/>\n<text fill=\"#000000\" font-family=\"Times,serif\" font-size=\"14.00\" text-anchor=\"middle\" x=\"277.5\" y=\"-257.3\">(?, 80, 50)</text>\n</g>\n<!-- 140237346846312&#45;&gt;140237346845472 -->\n<g class=\"edge\" id=\"edge1\">\n<title>140237346846312-&gt;140237346845472</title>\n<path d=\"M163,-332.3799C163,-324.1745 163,-314.7679 163,-305.8786\" fill=\"none\" stroke=\"#000000\"/>\n<polygon fill=\"#000000\" points=\"166.5001,-305.784 163,-295.784 159.5001,-305.784 166.5001,-305.784\" stroke=\"#000000\"/>\n</g>\n<!-- 140237346848440 -->\n<g class=\"node\" id=\"node3\">\n<title>140237346848440</title>\n<polygon fill=\"none\" points=\"28.5,-166.5 28.5,-212.5 297.5,-212.5 297.5,-166.5 28.5,-166.5\" stroke=\"#000000\"/>\n<text fill=\"#000000\" font-family=\"Times,serif\" font-size=\"14.00\" text-anchor=\"middle\" x=\"95.5\" y=\"-185.8\">dropout_2: Dropout</text>\n<polyline fill=\"none\" points=\"162.5,-166.5 162.5,-212.5 \" stroke=\"#000000\"/>\n<text fill=\"#000000\" font-family=\"Times,serif\" font-size=\"14.00\" text-anchor=\"middle\" x=\"191.5\" y=\"-197.3\">input:</text>\n<polyline fill=\"none\" points=\"162.5,-189.5 220.5,-189.5 \" stroke=\"#000000\"/>\n<text fill=\"#000000\" font-family=\"Times,serif\" font-size=\"14.00\" text-anchor=\"middle\" x=\"191.5\" y=\"-174.3\">output:</text>\n<polyline fill=\"none\" points=\"220.5,-166.5 220.5,-212.5 \" stroke=\"#000000\"/>\n<text fill=\"#000000\" font-family=\"Times,serif\" font-size=\"14.00\" text-anchor=\"middle\" x=\"259\" y=\"-197.3\">(?, 80, 50)</text>\n<polyline fill=\"none\" points=\"220.5,-189.5 297.5,-189.5 \" stroke=\"#000000\"/>\n<text fill=\"#000000\" font-family=\"Times,serif\" font-size=\"14.00\" text-anchor=\"middle\" x=\"259\" y=\"-174.3\">(?, 80, 50)</text>\n</g>\n<!-- 140237346845472&#45;&gt;140237346848440 -->\n<g class=\"edge\" id=\"edge2\">\n<title>140237346845472-&gt;140237346848440</title>\n<path d=\"M163,-249.3799C163,-241.1745 163,-231.7679 163,-222.8786\" fill=\"none\" stroke=\"#000000\"/>\n<polygon fill=\"#000000\" points=\"166.5001,-222.784 163,-212.784 159.5001,-222.784 166.5001,-222.784\" stroke=\"#000000\"/>\n</g>\n<!-- 140237346848104 -->\n<g class=\"node\" id=\"node4\">\n<title>140237346848104</title>\n<polygon fill=\"none\" points=\"44.5,-83.5 44.5,-129.5 281.5,-129.5 281.5,-83.5 44.5,-83.5\" stroke=\"#000000\"/>\n<text fill=\"#000000\" font-family=\"Times,serif\" font-size=\"14.00\" text-anchor=\"middle\" x=\"95.5\" y=\"-102.8\">lstm_2: LSTM</text>\n<polyline fill=\"none\" points=\"146.5,-83.5 146.5,-129.5 \" stroke=\"#000000\"/>\n<text fill=\"#000000\" font-family=\"Times,serif\" font-size=\"14.00\" text-anchor=\"middle\" x=\"175.5\" y=\"-114.3\">input:</text>\n<polyline fill=\"none\" points=\"146.5,-106.5 204.5,-106.5 \" stroke=\"#000000\"/>\n<text fill=\"#000000\" font-family=\"Times,serif\" font-size=\"14.00\" text-anchor=\"middle\" x=\"175.5\" y=\"-91.3\">output:</text>\n<polyline fill=\"none\" points=\"204.5,-83.5 204.5,-129.5 \" stroke=\"#000000\"/>\n<text fill=\"#000000\" font-family=\"Times,serif\" font-size=\"14.00\" text-anchor=\"middle\" x=\"243\" y=\"-114.3\">(?, 80, 50)</text>\n<polyline fill=\"none\" points=\"204.5,-106.5 281.5,-106.5 \" stroke=\"#000000\"/>\n<text fill=\"#000000\" font-family=\"Times,serif\" font-size=\"14.00\" text-anchor=\"middle\" x=\"243\" y=\"-91.3\">(?, 32)</text>\n</g>\n<!-- 140237346848440&#45;&gt;140237346848104 -->\n<g class=\"edge\" id=\"edge3\">\n<title>140237346848440-&gt;140237346848104</title>\n<path d=\"M163,-166.3799C163,-158.1745 163,-148.7679 163,-139.8786\" fill=\"none\" stroke=\"#000000\"/>\n<polygon fill=\"#000000\" points=\"166.5001,-139.784 163,-129.784 159.5001,-139.784 166.5001,-139.784\" stroke=\"#000000\"/>\n</g>\n<!-- 140237346848048 -->\n<g class=\"node\" id=\"node5\">\n<title>140237346848048</title>\n<polygon fill=\"none\" points=\"53.5,-.5 53.5,-46.5 272.5,-46.5 272.5,-.5 53.5,-.5\" stroke=\"#000000\"/>\n<text fill=\"#000000\" font-family=\"Times,serif\" font-size=\"14.00\" text-anchor=\"middle\" x=\"107\" y=\"-19.8\">dense_2: Dense</text>\n<polyline fill=\"none\" points=\"160.5,-.5 160.5,-46.5 \" stroke=\"#000000\"/>\n<text fill=\"#000000\" font-family=\"Times,serif\" font-size=\"14.00\" text-anchor=\"middle\" x=\"189.5\" y=\"-31.3\">input:</text>\n<polyline fill=\"none\" points=\"160.5,-23.5 218.5,-23.5 \" stroke=\"#000000\"/>\n<text fill=\"#000000\" font-family=\"Times,serif\" font-size=\"14.00\" text-anchor=\"middle\" x=\"189.5\" y=\"-8.3\">output:</text>\n<polyline fill=\"none\" points=\"218.5,-.5 218.5,-46.5 \" stroke=\"#000000\"/>\n<text fill=\"#000000\" font-family=\"Times,serif\" font-size=\"14.00\" text-anchor=\"middle\" x=\"245.5\" y=\"-31.3\">(?, 32)</text>\n<polyline fill=\"none\" points=\"218.5,-23.5 272.5,-23.5 \" stroke=\"#000000\"/>\n<text fill=\"#000000\" font-family=\"Times,serif\" font-size=\"14.00\" text-anchor=\"middle\" x=\"245.5\" y=\"-8.3\">(?, 1)</text>\n</g>\n<!-- 140237346848104&#45;&gt;140237346848048 -->\n<g class=\"edge\" id=\"edge4\">\n<title>140237346848104-&gt;140237346848048</title>\n<path d=\"M163,-83.3799C163,-75.1745 163,-65.7679 163,-56.8786\" fill=\"none\" stroke=\"#000000\"/>\n<polygon fill=\"#000000\" points=\"166.5001,-56.784 163,-46.784 159.5001,-56.784 166.5001,-56.784\" stroke=\"#000000\"/>\n</g>\n</g>\n</svg>"
          },
          "metadata": {
            "tags": []
          },
          "execution_count": 24
        }
      ]
    },
    {
      "cell_type": "markdown",
      "metadata": {
        "id": "8z7QmhEKUXhA",
        "colab_type": "text"
      },
      "source": [
        "## Aprendizagem (Treino)\n",
        "\n",
        "Agora estamos prontos para treinar nosso modelo. \n",
        "\n",
        "Lembrem-se que uma * época * significa uma passagem por todos os dados de treinamento. Note também que estamos usando uma fração dos dados de treinamento como nosso conjunto de validação.\n",
        "\n",
        "Note que as camadas LSTMs são lentas para se treinar."
      ]
    },
    {
      "cell_type": "code",
      "metadata": {
        "id": "r8kzuV1HUXhB",
        "colab_type": "code",
        "colab": {
          "base_uri": "https://localhost:8080/",
          "height": 247
        },
        "outputId": "b8ce39c4-6998-47fe-c8c9-2785790023e5"
      },
      "source": [
        "%%time\n",
        "epochs = 5\n",
        "validation_split = 0.2\n",
        "\n",
        "history = model.fit(x_train, y_train, batch_size=128,\n",
        "          epochs=epochs, \n",
        "          validation_split=validation_split)\n"
      ],
      "execution_count": 25,
      "outputs": [
        {
          "output_type": "stream",
          "text": [
            "Epoch 1/5\n",
            "157/157 [==============================] - 2s 13ms/step - loss: 0.5004 - accuracy: 0.7566 - val_loss: 0.3983 - val_accuracy: 0.8230\n",
            "Epoch 2/5\n",
            "157/157 [==============================] - 2s 11ms/step - loss: 0.3239 - accuracy: 0.8644 - val_loss: 0.4830 - val_accuracy: 0.8140\n",
            "Epoch 3/5\n",
            "157/157 [==============================] - 2s 11ms/step - loss: 0.2717 - accuracy: 0.8890 - val_loss: 0.3625 - val_accuracy: 0.8390\n",
            "Epoch 4/5\n",
            "157/157 [==============================] - 2s 11ms/step - loss: 0.2441 - accuracy: 0.9051 - val_loss: 0.3856 - val_accuracy: 0.8424\n",
            "Epoch 5/5\n",
            "157/157 [==============================] - 2s 11ms/step - loss: 0.2217 - accuracy: 0.9133 - val_loss: 0.3657 - val_accuracy: 0.8334\n",
            "CPU times: user 11.4 s, sys: 932 ms, total: 12.3 s\n",
            "Wall time: 10.2 s\n"
          ],
          "name": "stdout"
        }
      ]
    },
    {
      "cell_type": "markdown",
      "metadata": {
        "id": "8qlIHjvgUXhD",
        "colab_type": "text"
      },
      "source": [
        "Vamos plotar os dados para ver como o treinamento progrediu. \n",
        "\n",
        "Obs: Se observarmos um grande gap entre os valores de precisões de treinamento e validação isso normalmente sugere overfitting."
      ]
    },
    {
      "cell_type": "code",
      "metadata": {
        "id": "yvr_3Gj5UXhD",
        "colab_type": "code",
        "colab": {
          "base_uri": "https://localhost:8080/",
          "height": 441
        },
        "outputId": "7ec62e5a-c611-4733-eac4-a5a71a1f9639"
      },
      "source": [
        "plt.figure(figsize=(5,3))\n",
        "plt.plot(history.epoch,history.history['loss'], label='training')\n",
        "plt.plot(history.epoch,history.history['val_loss'], label='validation')\n",
        "plt.title('loss')\n",
        "plt.legend(loc='best')\n",
        "\n",
        "plt.figure(figsize=(5,3))\n",
        "plt.plot(history.epoch,history.history['accuracy'], label='training')\n",
        "plt.plot(history.epoch,history.history['val_accuracy'], label='validation')\n",
        "plt.title('accuracy')\n",
        "plt.legend(loc='best');"
      ],
      "execution_count": 26,
      "outputs": [
        {
          "output_type": "display_data",
          "data": {
            "image/png": "[encoded data removed]",
            "text/plain": [
              "<Figure size 360x216 with 1 Axes>"
            ]
          },
          "metadata": {
            "tags": []
          }
        },
        {
          "output_type": "display_data",
          "data": {
            "image/png": "[encoded data removed]",
            "text/plain": [
              "<Figure size 360x216 with 1 Axes>"
            ]
          },
          "metadata": {
            "tags": []
          }
        }
      ]
    },
    {
      "cell_type": "markdown",
      "metadata": {
        "id": "7I5ASZm5UXhG",
        "colab_type": "text"
      },
      "source": [
        "## Insights\n",
        "\n",
        "Para melhor verificarmos a qualidade do modelo calculamos então nossa acurácia para os dados de teste:"
      ]
    },
    {
      "cell_type": "code",
      "metadata": {
        "id": "iX7YM6lAUXhH",
        "colab_type": "code",
        "colab": {
          "base_uri": "https://localhost:8080/",
          "height": 52
        },
        "outputId": "f3312af9-ecf4-4fa2-c240-6d49297a550d"
      },
      "source": [
        "scores = model.evaluate(x_test, y_test, verbose=2)\n",
        "print(\"%s: %.2f%%\" % (model.metrics_names[1], scores[1]*100))"
      ],
      "execution_count": 27,
      "outputs": [
        {
          "output_type": "stream",
          "text": [
            "782/782 - 2s - loss: 0.3768 - accuracy: 0.8336\n",
            "accuracy: 83.36%\n"
          ],
          "name": "stdout"
        }
      ]
    },
    {
      "cell_type": "markdown",
      "metadata": {
        "id": "0A9XCZ8_UXhJ",
        "colab_type": "text"
      },
      "source": [
        "---\n",
        "*Run this notebook in Google Colaboratory using [this link](https://colab.research.google.com/github/csc-training/intro-to-dl/blob/master/day1/keras-imdb-rnn.ipynb).*"
      ]
    }
  ]
}